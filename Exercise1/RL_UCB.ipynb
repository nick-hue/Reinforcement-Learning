{
 "cells": [
  {
   "cell_type": "code",
   "execution_count": 207,
   "id": "18885bee-7b5a-465d-9b0c-916214e1bddf",
   "metadata": {},
   "outputs": [],
   "source": [
    "import numpy as np\n",
    "import matplotlib.pyplot as plt\n",
    "import pandas as pd\n",
    "import random\n",
    "import math"
   ]
  },
  {
   "cell_type": "code",
   "execution_count": 208,
   "id": "f01a623e-e901-4d4f-822c-58087bb1114a",
   "metadata": {},
   "outputs": [
    {
     "name": "stdout",
     "output_type": "stream",
     "text": [
      "N = 20\n",
      "400\n"
     ]
    }
   ],
   "source": [
    "K = 5                                                 # number of articles (arms)\n",
    "user_types = (\"female over 25\", \"male over 25\" , \"male under 25\", \"female under 25\")  # possible different types of users\n",
    "U = len(user_types)                                   # amount of different users\n",
    "T = 1000                                              # horizon\n",
    "N = 20\n",
    "\n",
    "print(\"N =\",N)\n",
    "print(N*K*U) # exploration rounds\n",
    "\n",
    "# click probabilities\n",
    "true_click_probs = np.array([\n",
    "    [0.8, 0.6, 0.5, 0.4, 0.2],      # female over 25\n",
    "    [0.2, 0.4, 0.5, 0.6, 0.8],      # male over 25\n",
    "    [0.2, 0.4, 0.8, 0.6, 0.5],      # male under 25\n",
    "    [0.2, 0.4, 0.8, 0.6, 0.5]       # female under 25 (similar preferences)\n",
    "    ])\n",
    "best_article_list = [np.amax(us) for us in true_click_probs] # get the best possible arm for each user"
   ]
  },
  {
   "cell_type": "code",
   "execution_count": 209,
   "id": "36dff4ca-8022-406d-a95b-67c44be85eb9",
   "metadata": {},
   "outputs": [],
   "source": [
    "df = pd.DataFrame(\n",
    "    true_click_probs,\n",
    "    index=[\"Female over 25\", \"Male over 25\", \"Male under 25\", \"Female under 25\"],\n",
    "    columns=[\"Article 1 (p1)\", \"Article 2 (p2)\", \"Article 3 (p3)\", \"Article 4 (p4)\", \"Article 5 (p5)\"]\n",
    ")"
   ]
  },
  {
   "cell_type": "code",
   "execution_count": 210,
   "id": "fde84f6e-dd74-40e3-938a-aff1fb1d5898",
   "metadata": {},
   "outputs": [
    {
     "data": {
      "text/html": [
       "<div>\n",
       "<style scoped>\n",
       "    .dataframe tbody tr th:only-of-type {\n",
       "        vertical-align: middle;\n",
       "    }\n",
       "\n",
       "    .dataframe tbody tr th {\n",
       "        vertical-align: top;\n",
       "    }\n",
       "\n",
       "    .dataframe thead th {\n",
       "        text-align: right;\n",
       "    }\n",
       "</style>\n",
       "<table border=\"1\" class=\"dataframe\">\n",
       "  <thead>\n",
       "    <tr style=\"text-align: right;\">\n",
       "      <th></th>\n",
       "      <th>Article 1 (p1)</th>\n",
       "      <th>Article 2 (p2)</th>\n",
       "      <th>Article 3 (p3)</th>\n",
       "      <th>Article 4 (p4)</th>\n",
       "      <th>Article 5 (p5)</th>\n",
       "    </tr>\n",
       "  </thead>\n",
       "  <tbody>\n",
       "    <tr>\n",
       "      <th>Female over 25</th>\n",
       "      <td>0.8</td>\n",
       "      <td>0.6</td>\n",
       "      <td>0.5</td>\n",
       "      <td>0.4</td>\n",
       "      <td>0.2</td>\n",
       "    </tr>\n",
       "    <tr>\n",
       "      <th>Male over 25</th>\n",
       "      <td>0.2</td>\n",
       "      <td>0.4</td>\n",
       "      <td>0.5</td>\n",
       "      <td>0.6</td>\n",
       "      <td>0.8</td>\n",
       "    </tr>\n",
       "    <tr>\n",
       "      <th>Male under 25</th>\n",
       "      <td>0.2</td>\n",
       "      <td>0.4</td>\n",
       "      <td>0.8</td>\n",
       "      <td>0.6</td>\n",
       "      <td>0.5</td>\n",
       "    </tr>\n",
       "    <tr>\n",
       "      <th>Female under 25</th>\n",
       "      <td>0.2</td>\n",
       "      <td>0.4</td>\n",
       "      <td>0.8</td>\n",
       "      <td>0.6</td>\n",
       "      <td>0.5</td>\n",
       "    </tr>\n",
       "  </tbody>\n",
       "</table>\n",
       "</div>"
      ],
      "text/plain": [
       "                 Article 1 (p1)  Article 2 (p2)  Article 3 (p3)  \\\n",
       "Female over 25              0.8             0.6             0.5   \n",
       "Male over 25                0.2             0.4             0.5   \n",
       "Male under 25               0.2             0.4             0.8   \n",
       "Female under 25             0.2             0.4             0.8   \n",
       "\n",
       "                 Article 4 (p4)  Article 5 (p5)  \n",
       "Female over 25              0.4             0.2  \n",
       "Male over 25                0.6             0.8  \n",
       "Male under 25               0.6             0.5  \n",
       "Female under 25             0.6             0.5  "
      ]
     },
     "execution_count": 210,
     "metadata": {},
     "output_type": "execute_result"
    }
   ],
   "source": [
    "df"
   ]
  },
  {
   "cell_type": "code",
   "execution_count": 211,
   "id": "dbc3ae0c-e724-4e88-a257-4aad697a31d9",
   "metadata": {},
   "outputs": [
    {
     "name": "stdout",
     "output_type": "stream",
     "text": [
      "U = 4\n",
      "K = 5\n"
     ]
    }
   ],
   "source": [
    "U = df.shape[0] # different type of users\n",
    "K = df.shape[1] # number of articles\n",
    "print(f\"U = {U}\\nK = {K}\")"
   ]
  },
  {
   "cell_type": "code",
   "execution_count": 212,
   "id": "3f380fe1-f8a5-46f0-a88b-9538d8f2b6aa",
   "metadata": {},
   "outputs": [],
   "source": [
    "article_clicks_amount = np.ones(K) # gets the number of clicks for each article\n",
    "sums_of_rewards = np.zeros(K) # sums of rewards for each arm\n",
    "articles_clicked = [] #change to numpy           # array that hold the article that was clicked at each time\n",
    "total_reward = 0\n",
    "\n",
    "for user in range(U):    # for each user T = t -> T % U \n",
    "    article = 0\n",
    "    max_upper_bound = 0\n",
    "    for i in range(K):   # for each article\n",
    "        # the more you select an article, you are more likely to not to select (diving by article's clicks)\n",
    "        # although if while clicking you get a positive reward the greater the chances to click again\n",
    "        average_reward = sums_of_rewards[i] / article_clicks_amount[i] # get the average reward \n",
    "        delta_i = math.sqrt(3/2 * math.log(user+1) / article_clicks_amount[i]) # get the delta_i\n",
    "        current_upper_bound = average_reward + delta_i\n",
    "\n",
    "        if current_upper_bound > max_upper_bound:\n",
    "            max_upper_bound = current_upper_bound\n",
    "            article = i \n",
    "        articles_clicked.append(article)\n",
    "        article_clicks_amount[article] += 1\n",
    "        reward = df.iloc[user, article]\n",
    "        # print(reward)\n",
    "        sums_of_rewards[article] += reward # if article is good, increase reward\n",
    "        total_reward += reward"
   ]
  },
  {
   "cell_type": "code",
   "execution_count": 242,
   "id": "ab476d22-9723-4eff-88af-4ba84b27783a",
   "metadata": {},
   "outputs": [],
   "source": [
    "T=1000\n",
    "random.seed(10)"
   ]
  },
  {
   "cell_type": "code",
   "execution_count": 251,
   "id": "73ebe888-a43f-4c0b-a422-f972a066c955",
   "metadata": {},
   "outputs": [],
   "source": [
    "article_clicks_amount = np.ones(K) # gets the number of clicks for each article\n",
    "sums_of_rewards = np.zeros(K) # sums of rewards for each arm\n",
    "articles_clicked = np.zeros(T) #change to numpy           # array that hold the article that was clicked at each time\n",
    "total_reward = 0\n",
    "\n",
    "for t in range(1, int(T/K)+1):    # for each user T = t -> T % U \n",
    "    article = 0\n",
    "    max_upper_bound = 0\n",
    "    for i in range(K):   # for each article\n",
    "        # the more you select an article, you are more likely to not to select (diving by article's clicks)\n",
    "        # although if while clicking you get a positive reward the greater the chances to click again\n",
    "        average_reward = sums_of_rewards[i] / article_clicks_amount[i] # get the average reward \n",
    "        delta_i = math.sqrt(3/2 * math.log(t) / article_clicks_amount[i]) # get the delta_i\n",
    "        current_upper_bound = average_reward + delta_i\n",
    "\n",
    "        if current_upper_bound > max_upper_bound:\n",
    "            max_upper_bound = current_upper_bound\n",
    "            article = i \n",
    "        articles_clicked[t] = article\n",
    "        article_clicks_amount[article] += 1\n",
    "        reward = np.random.binomial(1,p=df.iloc[t%U, article])  # get a reward for arm j for current user\n",
    "        # reward = df.iloc[t%U, article] # if possibilities were  { 0 , 1}\n",
    "        #print(reward)\n",
    "        sums_of_rewards[article] += reward # if article is good, increase reward\n",
    "        total_reward += reward"
   ]
  },
  {
   "cell_type": "code",
   "execution_count": 250,
   "id": "bea53d1f-d5e3-4d60-8245-8c87688ee3b9",
   "metadata": {},
   "outputs": [
    {
     "data": {
      "text/plain": [
       "0"
      ]
     },
     "execution_count": 250,
     "metadata": {},
     "output_type": "execute_result"
    }
   ],
   "source": [
    "total_reward"
   ]
  },
  {
   "cell_type": "code",
   "execution_count": 245,
   "id": "b7f08fff-c0ef-4de1-9283-2c4f5cba57a3",
   "metadata": {},
   "outputs": [
    {
     "data": {
      "text/plain": [
       "1000"
      ]
     },
     "execution_count": 245,
     "metadata": {},
     "output_type": "execute_result"
    }
   ],
   "source": [
    "len(articles_clicked)"
   ]
  },
  {
   "cell_type": "code",
   "execution_count": 246,
   "id": "5f053cd5-8a27-4858-8840-62489ecd693b",
   "metadata": {},
   "outputs": [],
   "source": [
    "# for article in articles_clicked:\n",
    "#     print(article, end = \" \")"
   ]
  },
  {
   "cell_type": "code",
   "execution_count": 247,
   "id": "6804cb43-4dc7-4d03-832e-16bc664f55ea",
   "metadata": {},
   "outputs": [
    {
     "data": {
      "text/plain": [
       "Counter({0.0: 801, 2.0: 82, 4.0: 63, 3.0: 53, 1.0: 1})"
      ]
     },
     "execution_count": 247,
     "metadata": {},
     "output_type": "execute_result"
    }
   ],
   "source": [
    "from collections import Counter\n",
    "Counter(articles_clicked)"
   ]
  },
  {
   "cell_type": "code",
   "execution_count": 248,
   "id": "d669bd3b-c34a-434e-96b7-c9c6c9881f7b",
   "metadata": {},
   "outputs": [
    {
     "data": {
      "text/plain": [
       "Text(0, 0.5, 'Number of times article was clicked')"
      ]
     },
     "execution_count": 248,
     "metadata": {},
     "output_type": "execute_result"
    },
    {
     "data": {
      "image/png": "[encoded data removed]",
      "text/plain": [
       "<Figure size 640x480 with 1 Axes>"
      ]
     },
     "metadata": {},
     "output_type": "display_data"
    }
   ],
   "source": [
    "plt.hist(articles_clicked)\n",
    "plt.title('Histogram of ads selections')\n",
    "plt.xlabel('Articles')\n",
    "plt.ylabel('Number of times article was clicked')"
   ]
  },
  {
   "cell_type": "code",
   "execution_count": null,
   "id": "37a5b40b-ab56-4839-9018-47ad6156761c",
   "metadata": {},
   "outputs": [],
   "source": []
  }
 ],
 "metadata": {
  "kernelspec": {
   "display_name": "Python 3 (ipykernel)",
   "language": "python",
   "name": "python3"
  },
  "language_info": {
   "codemirror_mode": {
    "name": "ipython",
    "version": 3
   },
   "file_extension": ".py",
   "mimetype": "text/x-python",
   "name": "python",
   "nbconvert_exporter": "python",
   "pygments_lexer": "ipython3",
   "version": "3.12.2"
  }
 },
 "nbformat": 4,
 "nbformat_minor": 5
}
